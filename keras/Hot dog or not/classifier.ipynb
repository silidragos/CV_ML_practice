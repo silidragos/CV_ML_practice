{
 "cells": [
  {
   "cell_type": "code",
   "execution_count": 1,
   "metadata": {
    "collapsed": false
   },
   "outputs": [
    {
     "name": "stderr",
     "output_type": "stream",
     "text": [
      "C:\\Users\\Dragos\\Anaconda3\\lib\\site-packages\\h5py\\__init__.py:36: FutureWarning: Conversion of the second argument of issubdtype from `float` to `np.floating` is deprecated. In future, it will be treated as `np.float64 == np.dtype(float).type`.\n",
      "  from ._conv import register_converters as _register_converters\n",
      "Using TensorFlow backend.\n"
     ]
    }
   ],
   "source": [
    "from keras.models import Sequential\n",
    "from keras.layers.convolutional import Conv2D\n",
    "from keras.layers.convolutional import MaxPooling2D\n",
    "from keras.layers.core import Activation\n",
    "from keras.layers.core import Flatten\n",
    "from keras.layers.core import Dense\n",
    "from keras import backend as K"
   ]
  },
  {
   "cell_type": "code",
   "execution_count": 2,
   "metadata": {
    "collapsed": false
   },
   "outputs": [],
   "source": [
    "class LeNet:\n",
    "    @staticmethod\n",
    "    def build(width, height, depth, classes):\n",
    "        model = Sequential()\n",
    "        inputShape = (height, width, depth)\n",
    "        if K.image_data_format() == \"channels_first\":\n",
    "            inputShape = (depth, height, width)\n",
    "            \n",
    "        model.add(Conv2D(20, (5, 5), padding=\"same\", input_shape=inputShape))\n",
    "        model.add(Activation(\"relu\"))\n",
    "        model.add(MaxPooling2D(pool_size=(2, 2), strides=(2, 2)))\n",
    "        \n",
    "        model.add(Conv2D(50, (5, 5), padding=\"same\"))\n",
    "        model.add(Activation(\"relu\"))\n",
    "        model.add(MaxPooling2D(pool_size=(2, 2), strides=(2, 2)))\n",
    "        \n",
    "        model.add(Flatten())\n",
    "        model.add(Dense(500))\n",
    "        model.add(Activation(\"relu\"))\n",
    "        \n",
    "        model.add(Dense(classes))\n",
    "        model.add(Activation(\"softmax\"))\n",
    "        \n",
    "        return model        "
   ]
  },
  {
   "cell_type": "code",
   "execution_count": 3,
   "metadata": {
    "collapsed": true
   },
   "outputs": [],
   "source": [
    "\n",
    "import matplotlib\n",
    "matplotlib.use(\"Agg\")\n",
    "\n",
    "from keras.preprocessing.image import ImageDataGenerator\n",
    "from keras.optimizers import Adam\n",
    "from sklearn.model_selection import train_test_split\n",
    "from keras.preprocessing.image import img_to_array\n",
    "from keras.utils import to_categorical\n",
    "from imutils import paths\n",
    "import matplotlib.pyplot as plt\n",
    "import numpy as np\n",
    "import random\n",
    "import cv2\n",
    "import os"
   ]
  },
  {
   "cell_type": "code",
   "execution_count": 4,
   "metadata": {
    "collapsed": false
   },
   "outputs": [
    {
     "name": "stdout",
     "output_type": "stream",
     "text": [
      "[INFO] loading images...\n"
     ]
    }
   ],
   "source": [
    "EPOCHS = 25\n",
    "INIT_LR = 1e-3\n",
    "BS = 32\n",
    "\n",
    "print(\"[INFO] loading images...\")\n",
    "data = []\n",
    "labels = []\n",
    "\n",
    "imagePaths = sorted(list(paths.list_images(\"./images\")))\n",
    "random.seed(42)\n",
    "random.shuffle(imagePaths)"
   ]
  },
  {
   "cell_type": "code",
   "execution_count": 5,
   "metadata": {
    "collapsed": true
   },
   "outputs": [],
   "source": [
    "for imagePath in imagePaths:\n",
    "    image = cv2.imread(imagePath)\n",
    "    image = cv2.resize(image, (28, 28))\n",
    "    image = img_to_array(image)\n",
    "    data.append(image)\n",
    "    \n",
    "    label = imagePath.split(os.path.sep)[-2]\n",
    "    label = 1 if label == \"hotdog\" else 0\n",
    "    labels.append(label)"
   ]
  },
  {
   "cell_type": "code",
   "execution_count": 6,
   "metadata": {
    "collapsed": true
   },
   "outputs": [],
   "source": [
    "data = np.array(data, dtype=\"float\") / 255.0\n",
    "labels = np.array(labels)\n",
    "\n",
    "(trainX, testX, trainY, testY) = train_test_split(data, labels, test_size=0.25, random_state = 42)\n",
    "trainY = to_categorical(trainY, num_classes = 2)\n",
    "testY = to_categorical(testY, num_classes = 2)"
   ]
  },
  {
   "cell_type": "code",
   "execution_count": 7,
   "metadata": {
    "collapsed": true
   },
   "outputs": [],
   "source": [
    "aug = ImageDataGenerator(rotation_range = 30, width_shift_range=0.1, \n",
    "                         height_shift_range = 0.1, shear_range = 0.2, \n",
    "                         zoom_range = 0.2, horizontal_flip=True, fill_mode=\"nearest\")"
   ]
  },
  {
   "cell_type": "code",
   "execution_count": 8,
   "metadata": {
    "collapsed": false
   },
   "outputs": [
    {
     "name": "stdout",
     "output_type": "stream",
     "text": [
      "[INFO] compiling model...\n",
      "[INFO] training network...\n",
      "Epoch 1/25\n",
      "28/28 [==============================] - 7s 255ms/step - loss: 0.5768 - acc: 0.6644 - val_loss: 0.4095 - val_acc: 0.7987\n",
      "Epoch 2/25\n",
      "28/28 [==============================] - 1s 23ms/step - loss: 0.3942 - acc: 0.8342 - val_loss: 0.3111 - val_acc: 0.8864\n",
      "Epoch 3/25\n",
      "28/28 [==============================] - 1s 24ms/step - loss: 0.3338 - acc: 0.8611 - val_loss: 0.2945 - val_acc: 0.8766\n",
      "Epoch 4/25\n",
      "28/28 [==============================] - 1s 23ms/step - loss: 0.2857 - acc: 0.8758 - val_loss: 0.3688 - val_acc: 0.8247\n",
      "Epoch 5/25\n",
      "28/28 [==============================] - 1s 23ms/step - loss: 0.2143 - acc: 0.9192 - val_loss: 0.3647 - val_acc: 0.8377\n",
      "Epoch 6/25\n",
      "28/28 [==============================] - 1s 29ms/step - loss: 0.1792 - acc: 0.9271 - val_loss: 0.2736 - val_acc: 0.8799\n",
      "Epoch 7/25\n",
      "28/28 [==============================] - 1s 30ms/step - loss: 0.1659 - acc: 0.9431 - val_loss: 0.1735 - val_acc: 0.9221\n",
      "Epoch 8/25\n",
      "28/28 [==============================] - 1s 27ms/step - loss: 0.1465 - acc: 0.9404 - val_loss: 0.1478 - val_acc: 0.9513\n",
      "Epoch 9/25\n",
      "28/28 [==============================] - 1s 23ms/step - loss: 0.1485 - acc: 0.9420 - val_loss: 0.2886 - val_acc: 0.8766\n",
      "Epoch 10/25\n",
      "28/28 [==============================] - 1s 23ms/step - loss: 0.1313 - acc: 0.9458 - val_loss: 0.5585 - val_acc: 0.7987\n",
      "Epoch 11/25\n",
      "28/28 [==============================] - 1s 26ms/step - loss: 0.1356 - acc: 0.9541 - val_loss: 0.1485 - val_acc: 0.9416\n",
      "Epoch 12/25\n",
      "28/28 [==============================] - 1s 27ms/step - loss: 0.1188 - acc: 0.9520 - val_loss: 0.1605 - val_acc: 0.9383\n",
      "Epoch 13/25\n",
      "28/28 [==============================] - 1s 22ms/step - loss: 0.1342 - acc: 0.9517 - val_loss: 0.2167 - val_acc: 0.9156\n",
      "Epoch 14/25\n",
      "28/28 [==============================] - 1s 26ms/step - loss: 0.1657 - acc: 0.9420 - val_loss: 0.2702 - val_acc: 0.8701\n",
      "Epoch 15/25\n",
      "28/28 [==============================] - 1s 28ms/step - loss: 0.1129 - acc: 0.9549 - val_loss: 0.1849 - val_acc: 0.9188\n",
      "Epoch 16/25\n",
      "28/28 [==============================] - 1s 29ms/step - loss: 0.1320 - acc: 0.9464 - val_loss: 0.3342 - val_acc: 0.8571\n",
      "Epoch 17/25\n",
      "28/28 [==============================] - 1s 24ms/step - loss: 0.1511 - acc: 0.9463 - val_loss: 0.2116 - val_acc: 0.9058\n",
      "Epoch 18/25\n",
      "28/28 [==============================] - 1s 23ms/step - loss: 0.1103 - acc: 0.9617 - val_loss: 0.3198 - val_acc: 0.8701\n",
      "Epoch 19/25\n",
      "28/28 [==============================] - 1s 21ms/step - loss: 0.1074 - acc: 0.9630 - val_loss: 0.1161 - val_acc: 0.9610\n",
      "Epoch 20/25\n",
      "28/28 [==============================] - 1s 22ms/step - loss: 0.1395 - acc: 0.9528 - val_loss: 0.1618 - val_acc: 0.9383\n",
      "Epoch 21/25\n",
      "28/28 [==============================] - 1s 21ms/step - loss: 0.1079 - acc: 0.9652 - val_loss: 0.1333 - val_acc: 0.9545\n",
      "Epoch 22/25\n",
      "28/28 [==============================] - 1s 21ms/step - loss: 0.0871 - acc: 0.9687 - val_loss: 0.1908 - val_acc: 0.9318\n",
      "Epoch 23/25\n",
      "28/28 [==============================] - 1s 21ms/step - loss: 0.1127 - acc: 0.9632 - val_loss: 0.1244 - val_acc: 0.9578\n",
      "Epoch 24/25\n",
      "28/28 [==============================] - 1s 28ms/step - loss: 0.0959 - acc: 0.9710 - val_loss: 0.1969 - val_acc: 0.9221\n",
      "Epoch 25/25\n",
      "28/28 [==============================] - 1s 28ms/step - loss: 0.1015 - acc: 0.9640 - val_loss: 0.4227 - val_acc: 0.8474\n",
      "[INFO] serializing network...\n"
     ]
    }
   ],
   "source": [
    "print(\"[INFO] compiling model...\")\n",
    "model = LeNet.build(width=28, height=28, depth=3, classes=2)\n",
    "opt = Adam(lr=INIT_LR, decay=INIT_LR / EPOCHS)\n",
    "model.compile(loss=\"binary_crossentropy\", optimizer = opt, metrics=[\"accuracy\"])\n",
    "\n",
    "print(\"[INFO] training network...\")\n",
    "H = model.fit_generator(aug.flow(trainX, trainY, batch_size=BS),\n",
    "                       validation_data = (testX, testY), steps_per_epoch=len(trainX) // BS,\n",
    "                        epochs = EPOCHS, verbose = 1\n",
    "                       )\n",
    "\n",
    "print(\"[INFO] serializing network...\")\n",
    "model.save(\"./hotdog_not_hotdog.model\")"
   ]
  },
  {
   "cell_type": "code",
   "execution_count": 9,
   "metadata": {
    "collapsed": false
   },
   "outputs": [],
   "source": [
    "plt.style.use(\"ggplot\")\n",
    "plt.figure()\n",
    "N = EPOCHS\n",
    "plt.plot(np.arange(0, N), H.history[\"loss\"], label=\"train_loss\")\n",
    "plt.plot(np.arange(0, N), H.history[\"val_loss\"], label=\"val_loss\")\n",
    "plt.plot(np.arange(0, N), H.history[\"acc\"], label=\"train_acc\")\n",
    "plt.plot(np.arange(0, N), H.history[\"val_acc\"], label=\"val_acc\")\n",
    "plt.title(\"Training Loss and Accuracy on Hotdog/Not Hotdog\")\n",
    "plt.xlabel(\"Epoch #\")\n",
    "plt.ylabel(\"Loss/Accuracy\")\n",
    "plt.legend(loc=\"lower left\")\n",
    "plt.savefig(\"./plots\")"
   ]
  },
  {
   "cell_type": "code",
   "execution_count": null,
   "metadata": {
    "collapsed": true
   },
   "outputs": [],
   "source": []
  }
 ],
 "metadata": {
  "anaconda-cloud": {},
  "kernelspec": {
   "display_name": "Python [conda env:Anaconda3]",
   "language": "python",
   "name": "conda-env-Anaconda3-py"
  },
  "language_info": {
   "codemirror_mode": {
    "name": "ipython",
    "version": 3
   },
   "file_extension": ".py",
   "mimetype": "text/x-python",
   "name": "python",
   "nbconvert_exporter": "python",
   "pygments_lexer": "ipython3",
   "version": "3.6.4"
  }
 },
 "nbformat": 4,
 "nbformat_minor": 1
}
